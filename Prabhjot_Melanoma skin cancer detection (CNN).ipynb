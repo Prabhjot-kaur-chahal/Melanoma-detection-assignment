{
 "cells": [
  {
   "cell_type": "markdown",
   "id": "613b9867",
   "metadata": {
    "id": "613b9867"
   },
   "source": [
    "# Problem statement:"
   ]
  },
  {
   "cell_type": "markdown",
   "id": "02b33f45",
   "metadata": {
    "id": "02b33f45"
   },
   "source": [
    "To build a CNN based model which can accurately detect melanoma. Melanoma is a type of cancer that can be deadly if not detected early. It accounts for 75% of skin cancer deaths. A solution which can evaluate images and alert the dermatologists about the presence of melanoma has the potential to reduce a lot of manual effort needed in diagnosis."
   ]
  },
  {
   "cell_type": "markdown",
   "id": "d028dad7",
   "metadata": {
    "id": "d028dad7"
   },
   "source": [
    "### Importing Skin Cancer Data"
   ]
  },
  {
   "cell_type": "markdown",
   "id": "9ea161e0",
   "metadata": {
    "id": "9ea161e0"
   },
   "source": [
    "#### Data Summary:"
   ]
  },
  {
   "cell_type": "markdown",
   "id": "e8f99ad5",
   "metadata": {
    "id": "e8f99ad5"
   },
   "source": [
    "The dataset consists of 2357 images of malignant and benign oncological diseases, which were formed from the International Skin Imaging Collaboration (ISIC). All images were sorted according to the classification taken with ISIC, and all subsets were divided into the same number of images, with the exception of melanomas and moles, whose images are slightly dominant.\n",
    "\n",
    "The data set contains the following diseases:\n",
    "\n",
    "Actinic keratosis\n",
    "\n",
    "Basal cell carcinoma\n",
    "\n",
    "Dermatofibroma\n",
    "\n",
    "Melanoma\n",
    "\n",
    "Nevus\n",
    "\n",
    "Pigmented benign keratosis\n",
    "\n",
    "Seborrheic keratosis\n",
    "\n",
    "Squamous cell carcinoma\n",
    "\n",
    "Vascular lesion"
   ]
  },
  {
   "cell_type": "markdown",
   "id": "472aa517",
   "metadata": {
    "id": "472aa517"
   },
   "source": [
    "#### Importing all the important libraries"
   ]
  },
  {
   "cell_type": "code",
   "execution_count": null,
   "id": "daad19fe",
   "metadata": {
    "id": "daad19fe"
   },
   "outputs": [],
   "source": [
    "import pathlib\n",
    "# !pip install tensorflow\n",
    "import tensorflow as tf\n",
    "import matplotlib.pyplot as plt\n",
    "import numpy as np\n",
    "import pandas as pd\n",
    "import os\n",
    "import PIL\n",
    "\n",
    "from tensorflow import keras\n",
    "from tensorflow.keras import layers\n",
    "from tensorflow.keras.models import Sequential\n",
    "# from tensorflow.python.keras.layers.normalization import BatchNormalization\n",
    "from tensorflow.python.keras.layers import Dense, Dropout, Activation, Flatten, Conv2D, MaxPool2D\n",
    "from tensorflow.keras.layers.experimental.preprocessing import Rescaling\n",
    "from keras.preprocessing.image import ImageDataGenerator\n",
    "# from keras.optimizers import Adam\n",
    "from keras.callbacks import ReduceLROnPlateau\n",
    "from keras.utils.np_utils import to_categorical\n",
    "import warnings\n",
    "warnings.filterwarnings('ignore') \n",
    "tf.get_logger().setLevel('ERROR')"
   ]
  },
  {
   "cell_type": "code",
   "execution_count": null,
   "id": "xHXEzWzzfw4q",
   "metadata": {
    "colab": {
     "base_uri": "https://localhost:8080/"
    },
    "id": "xHXEzWzzfw4q",
    "outputId": "eb2194b7-2841-449f-e704-ad2201413d5c"
   },
   "outputs": [],
   "source": [
    "## using the data by mounting the google drive :\n",
    "from google.colab import drive\n",
    "drive.mount('/content/drive')"
   ]
  },
  {
   "cell_type": "code",
   "execution_count": null,
   "id": "cd0de877",
   "metadata": {
    "id": "cd0de877"
   },
   "outputs": [],
   "source": [
    "# Defining the path for train and test images\n",
    "## Todo: Updating paths to the train and test dataset\n",
    "root_path = '/content/drive/MyDrive/Skin cancer ISIC The International Skin Imaging Collaboration'\n",
    "data_dir_train = pathlib.Path(root_path + '/Train')\n",
    "data_dir_test = pathlib.Path(root_path + '/Test')"
   ]
  },
  {
   "cell_type": "code",
   "execution_count": null,
   "id": "a982d7ac",
   "metadata": {
    "colab": {
     "base_uri": "https://localhost:8080/"
    },
    "id": "a982d7ac",
    "outputId": "c20ce970-223f-436f-d2e9-9d3781c0d3f6"
   },
   "outputs": [],
   "source": [
    "train_image_count = len(list(data_dir_train.glob('*/*.jpg')))\n",
    "print(train_image_count)\n",
    "test_image_count = len(list(data_dir_test.glob('*/*.jpg')))\n",
    "print(test_image_count)"
   ]
  },
  {
   "cell_type": "markdown",
   "id": "39c91a0d",
   "metadata": {
    "id": "39c91a0d"
   },
   "source": [
    "#### Load using keras.preprocessing"
   ]
  },
  {
   "cell_type": "markdown",
   "id": "730dc6bf",
   "metadata": {
    "id": "730dc6bf"
   },
   "source": [
    "Let's load these images off disk using the helpful image_dataset_from_directory utility."
   ]
  },
  {
   "cell_type": "markdown",
   "id": "8a32c9a3",
   "metadata": {
    "id": "8a32c9a3"
   },
   "source": [
    "#### Create a dataset"
   ]
  },
  {
   "cell_type": "markdown",
   "id": "4f1370e3",
   "metadata": {
    "id": "4f1370e3"
   },
   "source": [
    "Define some parameters for the loader:"
   ]
  },
  {
   "cell_type": "code",
   "execution_count": null,
   "id": "a57619ec",
   "metadata": {
    "id": "a57619ec"
   },
   "outputs": [],
   "source": [
    "batch_size = 32\n",
    "img_height = 180\n",
    "img_width = 180"
   ]
  },
  {
   "cell_type": "markdown",
   "id": "29e04b7e",
   "metadata": {
    "id": "29e04b7e"
   },
   "source": [
    "Use 80% of the images for training, and 20% for validation.\n",
    "\n"
   ]
  },
  {
   "cell_type": "code",
   "execution_count": null,
   "id": "2196de23",
   "metadata": {
    "colab": {
     "base_uri": "https://localhost:8080/"
    },
    "id": "2196de23",
    "outputId": "9dc4770f-0516-4376-f7d6-1fdb7d5fea86"
   },
   "outputs": [],
   "source": [
    "## Write your train dataset here\n",
    "## Note use seed=123 while creating your dataset using tf.keras.preprocessing.image_dataset_from_directory\n",
    "## Note, make sure your resize your images to the size img_height*img_width, while writting the dataset\n",
    "train_ds = tf.keras.preprocessing.image_dataset_from_directory(\n",
    "  data_dir_train,\n",
    "  validation_split=0.2,\n",
    "  subset=\"training\",\n",
    "  seed=123,\n",
    "  image_size=(img_height, img_width),\n",
    "  batch_size=batch_size)\n",
    "  "
   ]
  },
  {
   "cell_type": "code",
   "execution_count": null,
   "id": "651dxcL4yDXu",
   "metadata": {
    "colab": {
     "base_uri": "https://localhost:8080/"
    },
    "id": "651dxcL4yDXu",
    "outputId": "aa305301-471a-4bb7-c796-df67de57def8"
   },
   "outputs": [],
   "source": [
    "  ## Write your validation dataset here\n",
    "## Note use seed=123 while creating your dataset using tf.keras.preprocessing.image_dataset_from_directory\n",
    "## Note, make sure your resize your images to the size img_height*img_width, while writting the dataset\n",
    "val_ds = tf.keras.preprocessing.image_dataset_from_directory(\n",
    "  data_dir_train,\n",
    "  validation_split=0.2,\n",
    "  subset=\"validation\",\n",
    "  seed=123,\n",
    "  image_size=(img_height, img_width),\n",
    "  batch_size=batch_size)"
   ]
  },
  {
   "cell_type": "code",
   "execution_count": null,
   "id": "hFMt1eBdz156",
   "metadata": {
    "colab": {
     "base_uri": "https://localhost:8080/"
    },
    "id": "hFMt1eBdz156",
    "outputId": "c09823d1-4308-49ea-949e-5d1b0a887c36"
   },
   "outputs": [],
   "source": [
    "## Write your test dataset here\n",
    "## Note use seed=123 while creating your dataset using tf.keras.preprocessing.image_dataset_from_directory\n",
    "## Note, make sure your resize your images to the size img_height*img_width, while writting the dataset\n",
    "test_ds = tf.keras.preprocessing.image_dataset_from_directory(\n",
    "  data_dir_test,\n",
    "  image_size=(img_height, img_width),\n",
    "  batch_size=batch_size)"
   ]
  },
  {
   "cell_type": "code",
   "execution_count": null,
   "id": "malb11eIz4oE",
   "metadata": {
    "colab": {
     "base_uri": "https://localhost:8080/"
    },
    "id": "malb11eIz4oE",
    "outputId": "9dd9ca01-eac2-4d53-d47f-9bbd7b25fc16"
   },
   "outputs": [],
   "source": [
    "# List out all the classes of skin cancer and store them in a list. \n",
    "# You can find the class names in the class_names attribute on these datasets. \n",
    "# These correspond to the directory names in alphabetical order.\n",
    "class_names = train_ds.class_names\n",
    "print(class_names)"
   ]
  },
  {
   "cell_type": "markdown",
   "id": "z2K62zjH3LSE",
   "metadata": {
    "id": "z2K62zjH3LSE"
   },
   "source": [
    "#### Visualize the data\n",
    "##### Todo, create a code to visualize one instance of all the nine classes present in the dataset"
   ]
  },
  {
   "cell_type": "code",
   "execution_count": null,
   "id": "G1pTlxFz3HNl",
   "metadata": {
    "colab": {
     "base_uri": "https://localhost:8080/",
     "height": 591
    },
    "id": "G1pTlxFz3HNl",
    "outputId": "9c6ca9c7-4a86-46b3-895c-fc5f8d2a099c"
   },
   "outputs": [],
   "source": [
    "import matplotlib.pyplot as plt\n",
    "\n",
    "### your code goes here, you can use training or validation data to visualize\n",
    "plt.figure(figsize=(10, 10))\n",
    "for images, labels in train_ds.take(1):\n",
    "  for i in range(9):\n",
    "    ax = plt.subplot( 3, 3, i + 1)\n",
    "    plt.imshow(images[i].numpy().astype(\"uint8\"))\n",
    "    plt.title(class_names[labels[i]])\n",
    "    plt.axis(\"off\")"
   ]
  },
  {
   "cell_type": "markdown",
   "id": "dlQ4Yl98BE6q",
   "metadata": {
    "id": "dlQ4Yl98BE6q"
   },
   "source": [
    "The image_batch is a tensor of the shape (32, 180, 180, 3). This is a batch of 32 images of shape 180x180x3 (the last dimension refers to color channels RGB). The label_batch is a tensor of the shape (32,), these are corresponding labels to the 32 images.\n",
    "\n",
    "* Dataset.cache() keeps the images in memory after they're loaded off disk during the first epoch.\n",
    "\n",
    "* Dataset.prefetch() overlaps data preprocessing and model execution while training."
   ]
  },
  {
   "cell_type": "code",
   "execution_count": null,
   "id": "LiuGFXH6BJ4w",
   "metadata": {
    "id": "LiuGFXH6BJ4w"
   },
   "outputs": [],
   "source": [
    "AUTOTUNE = tf.data.experimental.AUTOTUNE\n",
    "train_ds = train_ds.cache().shuffle(1000).prefetch(buffer_size=AUTOTUNE)\n",
    "val_ds = val_ds.cache().prefetch(buffer_size=AUTOTUNE)"
   ]
  },
  {
   "cell_type": "code",
   "execution_count": null,
   "id": "1ZXZgLmTBXum",
   "metadata": {
    "colab": {
     "base_uri": "https://localhost:8080/"
    },
    "id": "1ZXZgLmTBXum",
    "outputId": "17b00a1e-928e-492e-c12e-e914668b978d"
   },
   "outputs": [],
   "source": [
    "print(train_ds)"
   ]
  },
  {
   "cell_type": "code",
   "execution_count": null,
   "id": "_CNX88-9Bhmu",
   "metadata": {
    "colab": {
     "base_uri": "https://localhost:8080/"
    },
    "id": "_CNX88-9Bhmu",
    "outputId": "97b2f091-86fc-45c2-f887-d215584f02ac"
   },
   "outputs": [],
   "source": [
    "print(val_ds)"
   ]
  },
  {
   "cell_type": "markdown",
   "id": "g52XgOUbCX4o",
   "metadata": {
    "id": "g52XgOUbCX4o"
   },
   "source": [
    "#### Create the model"
   ]
  },
  {
   "cell_type": "markdown",
   "id": "-swEoo9SY4rR",
   "metadata": {
    "id": "-swEoo9SY4rR"
   },
   "source": [
    "Todo: Create a CNN model, which can accurately detect 9 classes present in the dataset. Use layers.experimental.preprocessing.Rescaling to normalize pixel values between (0,1). The RGB channel values are in the [0, 255] range. This is not ideal for a neural network. Here, it is good to standardize values to be in the [0, 1]\n"
   ]
  },
  {
   "cell_type": "code",
   "execution_count": null,
   "id": "oGZrub6cY7Bm",
   "metadata": {
    "id": "oGZrub6cY7Bm"
   },
   "outputs": [],
   "source": [
    "preprocessing_layers = [\n",
    "    tf.keras.layers.experimental.preprocessing.Rescaling(1./255, input_shape=(180, 180, 3))\n",
    "]"
   ]
  },
  {
   "cell_type": "code",
   "execution_count": null,
   "id": "Kf6xMCZEZIgr",
   "metadata": {
    "id": "Kf6xMCZEZIgr"
   },
   "outputs": [],
   "source": [
    "### Your code goes here\n",
    "num_classes = 9\n",
    "\n",
    "#A Sequential model is appropriate for a plain stack of layers where each layer has exactly one input tensor and one output tensor\n",
    "model = Sequential([\n",
    "  layers.experimental.preprocessing.Rescaling(1./255, input_shape=(img_height, img_width, 3)),\n",
    "\n",
    "  #2D convolution layer (e.g. spatial convolution over images).\n",
    "  layers.Conv2D(16, 3, padding='same', activation='relu'),\n",
    "\n",
    "  #We slide over the feature map and extract tiles of a specified size. \n",
    "  #Downsamples the input along its spatial dimensions (height and width) by taking the maximum value over an input window (of size defined by pool_size) for each channel of the input. \n",
    "  layers.MaxPooling2D(),\n",
    "\n",
    "  #We slide over the feature map and extract tiles of a specified size. \n",
    "  layers.Conv2D(32, 3, padding='same', activation='relu'),\n",
    "\n",
    "  layers.MaxPooling2D(),\n",
    "\n",
    "  layers.Conv2D(64, 3, padding='same', activation='relu'),\n",
    "\n",
    "  #We slide over the feature map and extract tiles of a specified size. \n",
    "  #Advantages of downsampling - Decreased size of input for upcoming layers, Works against overfitting\n",
    "  layers.MaxPooling2D(),\n",
    "\n",
    "  #Flattening - Convert into 1D feature vector.  Flattens all its structure to create a single long feature vector\n",
    "  ##Flattens the input. Does not affect the batch size.\n",
    "  layers.Flatten(),\n",
    "\n",
    "  #fully connected layer\n",
    "  #A hidden layer in which each node is connected to every node in the subsequent hidden layer.\n",
    "  #A fully connected layer is also known as a dense layer.\n",
    "\n",
    "  layers.Dense(128, activation='relu'),\n",
    "\n",
    "  #Dense is the only actual network layer in that model. A Dense layer feeds all outputs from the previous layer to all its neurons, each neuron providing one output to the next layer.\n",
    "  #It's the most basic layer in neural networks. A Dense(10) has ten neurons. A Dense(512) has 512 neurons.\n",
    "  #Dense implements the operation: output = activation(dot(input, kernel)\n",
    "  #Dense Layer - A dense layer represents a matrix vector multiplication.  each input node is connected to each output node.\n",
    "  layers.Dense(num_classes)\n",
    "  #Dense Layer - A dense layer represents a matrix vector multiplication.  each input node is connected to each output node.\n",
    "])"
   ]
  },
  {
   "cell_type": "code",
   "execution_count": null,
   "id": "TMBtPKmbZbdL",
   "metadata": {
    "colab": {
     "base_uri": "https://localhost:8080/"
    },
    "id": "TMBtPKmbZbdL",
    "outputId": "71a0e162-f349-4bda-a2d8-c58510b53092"
   },
   "outputs": [],
   "source": [
    "# View the summary of all layers\n",
    "model.summary()"
   ]
  },
  {
   "cell_type": "markdown",
   "id": "wWlJWXp9ZlsB",
   "metadata": {
    "id": "wWlJWXp9ZlsB"
   },
   "source": [
    "#### Compile the model"
   ]
  },
  {
   "cell_type": "markdown",
   "id": "IjtVlBHeZv-H",
   "metadata": {
    "id": "IjtVlBHeZv-H"
   },
   "source": [
    "##### Choose an appropirate optimiser and loss function for model training"
   ]
  },
  {
   "cell_type": "code",
   "execution_count": null,
   "id": "AW-CaX3KZzw_",
   "metadata": {
    "id": "AW-CaX3KZzw_"
   },
   "outputs": [],
   "source": [
    "### Todo, choose an appropirate optimiser and loss function\n",
    "model.compile(optimizer='adam',\n",
    "              loss=tf.keras.losses.SparseCategoricalCrossentropy(from_logits=True),\n",
    "              metrics=['accuracy'])"
   ]
  },
  {
   "cell_type": "code",
   "execution_count": null,
   "id": "DgI_7GUJZ6of",
   "metadata": {
    "colab": {
     "base_uri": "https://localhost:8080/"
    },
    "id": "DgI_7GUJZ6of",
    "outputId": "979f26e8-a1a2-4d2d-e7ef-87380e917ac5"
   },
   "outputs": [],
   "source": [
    "# View the summary of all layers\n",
    "model.summary()"
   ]
  },
  {
   "cell_type": "markdown",
   "id": "knbDXGNiaF6v",
   "metadata": {
    "id": "knbDXGNiaF6v"
   },
   "source": [
    "#### Train the model"
   ]
  },
  {
   "cell_type": "code",
   "execution_count": null,
   "id": "wYCrnq-VaLUY",
   "metadata": {
    "colab": {
     "base_uri": "https://localhost:8080/"
    },
    "id": "wYCrnq-VaLUY",
    "outputId": "91993984-1569-42ab-ff0a-e6b480890315"
   },
   "outputs": [],
   "source": [
    "epochs = 20\n",
    "history = model.fit(\n",
    "  train_ds,\n",
    "  validation_data=val_ds,\n",
    "  epochs=epochs\n",
    ")"
   ]
  },
  {
   "cell_type": "markdown",
   "id": "Krm_CTkCacMe",
   "metadata": {
    "id": "Krm_CTkCacMe"
   },
   "source": [
    "#### Visualizing training results"
   ]
  },
  {
   "cell_type": "code",
   "execution_count": null,
   "id": "rwHCmi0iad3X",
   "metadata": {
    "colab": {
     "base_uri": "https://localhost:8080/",
     "height": 499
    },
    "id": "rwHCmi0iad3X",
    "outputId": "6264541e-cfa4-40bd-e4b3-f4d76f631bd5"
   },
   "outputs": [],
   "source": [
    "acc = history.history['accuracy']\n",
    "val_acc = history.history['val_accuracy']\n",
    "\n",
    "loss = history.history['loss']\n",
    "val_loss = history.history['val_loss']\n",
    "\n",
    "epochs_range = range(epochs)\n",
    "\n",
    "plt.figure(figsize=(8, 8))\n",
    "plt.subplot(1, 2, 1)\n",
    "plt.plot(epochs_range, acc, label='Training Accuracy')\n",
    "plt.plot(epochs_range, val_acc, label='Validation Accuracy')\n",
    "plt.legend(loc='lower right')\n",
    "plt.title('Training and Validation Accuracy')\n",
    "\n",
    "plt.subplot(1, 2, 2)\n",
    "plt.plot(epochs_range, loss, label='Training Loss')\n",
    "plt.plot(epochs_range, val_loss, label='Validation Loss')\n",
    "plt.legend(loc='upper right')\n",
    "plt.title('Training and Validation Loss')\n",
    "plt.show()\n",
    "     "
   ]
  },
  {
   "cell_type": "markdown",
   "id": "epOM-_GakEqA",
   "metadata": {
    "id": "epOM-_GakEqA"
   },
   "source": [
    "Todo: Write your findings after the model fit, see if there is an evidence of model overfit or underfit"
   ]
  },
  {
   "cell_type": "code",
   "execution_count": null,
   "id": "r5B3BBPikQ04",
   "metadata": {
    "colab": {
     "base_uri": "https://localhost:8080/"
    },
    "id": "r5B3BBPikQ04",
    "outputId": "d422c7b0-ae48-443a-c3e9-8c936a7fe82b"
   },
   "outputs": [],
   "source": [
    "loss, accuracy = model.evaluate(train_ds, verbose=1,)\n",
    "loss_v, accuracy_v = model.evaluate(val_ds, verbose=1)\n",
    "\n",
    "print(\"Accuracy: \", accuracy)\n",
    "print(\"Validation Accuracy: \",accuracy_v)\n",
    "print(\"Loss: \",loss)\n",
    "print(\"Validation Loss\", loss_v)"
   ]
  },
  {
   "cell_type": "code",
   "execution_count": null,
   "id": "WsJNyq4pkU9f",
   "metadata": {
    "id": "WsJNyq4pkU9f"
   },
   "outputs": [],
   "source": [
    "# Todo, after you have analysed the model fit history for presence of underfit or overfit, choose an appropriate data augumentation strategy. \n",
    "data_augmentation = keras.Sequential(\n",
    "  [\n",
    "    layers.experimental.preprocessing.RandomFlip(\"horizontal\", \n",
    "                                                 input_shape=(img_height, \n",
    "                                                              img_width,\n",
    "                                                              3)),\n",
    "    layers.experimental.preprocessing.RandomRotation(0.1),\n",
    "    layers.experimental.preprocessing.RandomZoom(0.1),\n",
    "    layers.experimental.preprocessing.RandomTranslation(1,.5,fill_mode=\"reflect\",interpolation=\"bilinear\",seed=None,fill_value=0.0),\n",
    "    layers.experimental.preprocessing.RandomCrop(img_height,img_width),\n",
    "  ]\n",
    ")"
   ]
  },
  {
   "cell_type": "code",
   "execution_count": null,
   "id": "Fhornls-kiSs",
   "metadata": {
    "colab": {
     "base_uri": "https://localhost:8080/",
     "height": 575
    },
    "id": "Fhornls-kiSs",
    "outputId": "8dbeefc0-8902-46f0-9125-695bad8757fc"
   },
   "outputs": [],
   "source": [
    "# Todo, visualize how your augmentation strategy works for one instance of training image.\n",
    "plt.figure(figsize=(10, 10))\n",
    "for images, _ in train_ds.take(1):\n",
    "  for i in range(9):\n",
    "    augmented_images = data_augmentation(images)\n",
    "    ax = plt.subplot(3, 3, i + 1)\n",
    "    plt.imshow(augmented_images[0].numpy().astype(\"uint8\"))\n",
    "    plt.axis(\"off\")"
   ]
  },
  {
   "cell_type": "markdown",
   "id": "6E2kUAfmvaYu",
   "metadata": {
    "id": "6E2kUAfmvaYu"
   },
   "source": [
    "#### Todo:"
   ]
  },
  {
   "cell_type": "markdown",
   "id": "Xyq9IgmyvjSW",
   "metadata": {
    "id": "Xyq9IgmyvjSW"
   },
   "source": [
    "##### Create the model, compile and train the model"
   ]
  },
  {
   "cell_type": "code",
   "execution_count": null,
   "id": "tx4tWz6vveCN",
   "metadata": {
    "id": "tx4tWz6vveCN"
   },
   "outputs": [],
   "source": [
    "## You can use Dropout layer if there is an evidence of overfitting in your findings\n",
    "\n",
    "\n",
    "model = Sequential([\n",
    "  data_augmentation,\n",
    "  layers.experimental.preprocessing.Rescaling(1./255),\n",
    "  layers.Conv2D(64, 3, padding='same', activation='relu'),\n",
    "  layers.MaxPooling2D(),\n",
    "  layers.Conv2D(128, 3, padding='same', activation='relu'),\n",
    "  layers.MaxPooling2D(),\n",
    "  layers.Conv2D(256, 3, padding='same', activation='relu'),\n",
    "  layers.MaxPooling2D(),\n",
    "  layers.Dropout(0.2),\n",
    "  layers.Flatten(),\n",
    "  layers.Dense(128, activation='relu'),\n",
    "  layers.Dense(num_classes)\n",
    "])\n"
   ]
  },
  {
   "cell_type": "code",
   "execution_count": null,
   "id": "HZfEM85Lvu7y",
   "metadata": {
    "colab": {
     "base_uri": "https://localhost:8080/"
    },
    "id": "HZfEM85Lvu7y",
    "outputId": "23d21559-690f-4a5c-e65f-43532326362b"
   },
   "outputs": [],
   "source": [
    "## Your code goes here\n",
    "model.summary()"
   ]
  },
  {
   "cell_type": "markdown",
   "id": "2KCzwfW65TLB",
   "metadata": {
    "id": "2KCzwfW65TLB"
   },
   "source": [
    "#### Compiling the model"
   ]
  },
  {
   "cell_type": "code",
   "execution_count": null,
   "id": "5uf_B9y8wX8V",
   "metadata": {
    "id": "5uf_B9y8wX8V"
   },
   "outputs": [],
   "source": [
    "## Your code goes here\n",
    "model.compile(optimizer='adam',\n",
    "              loss=tf.keras.losses.SparseCategoricalCrossentropy(from_logits=True),\n",
    "              metrics=['accuracy'])"
   ]
  },
  {
   "cell_type": "markdown",
   "id": "BfVcKK5m5_al",
   "metadata": {
    "id": "BfVcKK5m5_al"
   },
   "source": [
    "#### Training the model"
   ]
  },
  {
   "cell_type": "code",
   "execution_count": null,
   "id": "OWoAVmeP581r",
   "metadata": {
    "colab": {
     "base_uri": "https://localhost:8080/"
    },
    "id": "OWoAVmeP581r",
    "outputId": "4cbef6fa-99a2-44d6-bdb3-16572bbd25d7"
   },
   "outputs": [],
   "source": [
    "## Your code goes here, note: train your model for 20 epochs\n",
    "epochs = 20\n",
    "history = model.fit(\n",
    "  train_ds,\n",
    "  validation_data=val_ds,\n",
    "  epochs=epochs\n",
    ")"
   ]
  },
  {
   "cell_type": "markdown",
   "id": "1KtU4J416Ujy",
   "metadata": {
    "id": "1KtU4J416Ujy"
   },
   "source": [
    "#### Visualizing the results"
   ]
  },
  {
   "cell_type": "code",
   "execution_count": null,
   "id": "EVS0HhDK6LkJ",
   "metadata": {
    "colab": {
     "base_uri": "https://localhost:8080/",
     "height": 499
    },
    "id": "EVS0HhDK6LkJ",
    "outputId": "0954fa32-9f35-40b4-8ec5-5cd4b5efecc6"
   },
   "outputs": [],
   "source": [
    "acc = history.history['accuracy']\n",
    "val_acc = history.history['val_accuracy']\n",
    "\n",
    "loss = history.history['loss']\n",
    "val_loss = history.history['val_loss']\n",
    "\n",
    "epochs_range = range(epochs)\n",
    "\n",
    "plt.figure(figsize=(8, 8))\n",
    "plt.subplot(1, 2, 1)\n",
    "plt.plot(epochs_range, acc, label='Training Accuracy')\n",
    "plt.plot(epochs_range, val_acc, label='Validation Accuracy')\n",
    "plt.legend(loc='lower right')\n",
    "plt.title('Training and Validation Accuracy')\n",
    "\n",
    "plt.subplot(1, 2, 2)\n",
    "plt.plot(epochs_range, loss, label='Training Loss')\n",
    "plt.plot(epochs_range, val_loss, label='Validation Loss')\n",
    "plt.legend(loc='upper right')\n",
    "plt.title('Training and Validation Loss')\n",
    "plt.show()\n"
   ]
  },
  {
   "cell_type": "markdown",
   "id": "wlRXrEfb6dVr",
   "metadata": {
    "id": "wlRXrEfb6dVr"
   },
   "source": [
    "Todo: Write your findings after the model fit, see if there is an evidence of model overfit or underfit. Do you think there is some improvement now as compared to the previous model run?"
   ]
  },
  {
   "cell_type": "code",
   "execution_count": null,
   "id": "QsP3DTof6gcX",
   "metadata": {
    "colab": {
     "base_uri": "https://localhost:8080/"
    },
    "id": "QsP3DTof6gcX",
    "outputId": "33024895-ea14-4c92-b342-8387d1578ca5"
   },
   "outputs": [],
   "source": [
    "# Check the evidence of model is overfit or underfit by comparing previous and present model. \n",
    "# Your code goes here\n",
    "loss, accuracy = model.evaluate(train_ds, verbose=1,)\n",
    "loss_v, accuracy_v = model.evaluate(val_ds, verbose=1)\n",
    "\n",
    "print(\"Accuracy: \", accuracy)\n",
    "print(\"Validation Accuracy: \",accuracy_v)\n",
    "print(\"Loss: \",loss)\n",
    "print(\"Validation Loss\", loss_v)"
   ]
  },
  {
   "cell_type": "markdown",
   "id": "MpFenRNH6pIG",
   "metadata": {
    "id": "MpFenRNH6pIG"
   },
   "source": [
    "**Todo**: Find the distribution of classes in the training dataset.\n",
    "\n",
    "**Context**: Many times real life datasets can have class imbalance, one class can have proportionately higher number of samples compared to the others. Class imbalance can have a detrimental effect on the final model quality. Hence as a sanity check it becomes important to check what is the distribution of classes in the data."
   ]
  },
  {
   "cell_type": "code",
   "execution_count": null,
   "id": "Zro0_c5S6rt7",
   "metadata": {
    "colab": {
     "base_uri": "https://localhost:8080/",
     "height": 867
    },
    "id": "Zro0_c5S6rt7",
    "outputId": "93be05f0-053c-48ef-9149-79b9f45e972e"
   },
   "outputs": [],
   "source": [
    "## Your code goes here.\n",
    "import matplotlib.pyplot as plt\n",
    "data = dict()\n",
    "\n",
    "for i in class_names:\n",
    "  data[i] = []\n",
    "\n",
    "plt.figure(figsize=(10, 10))\n",
    "for images, labels in train_ds:\n",
    "  for i in range(9):\n",
    "    data[class_names[labels[i]]].append(images[i].numpy().astype(\"uint8\"))\n",
    "\n",
    "for i in data:\n",
    "  data[i] = len(data[i]) \n",
    "\n",
    "f = plt.figure()\n",
    "f.set_figwidth(20)\n",
    "f.set_figheight(20)\n",
    "\n",
    "plt.bar(range(len(data)), list(data.values()), align='center')\n",
    "plt.xticks(range(len(data)), list(data.keys()))\n",
    "plt.show()"
   ]
  },
  {
   "cell_type": "markdown",
   "id": "wABdVHly6z2u",
   "metadata": {
    "id": "wABdVHly6z2u"
   },
   "source": [
    "**Todo**: Write your findings here:\n",
    "- Which class has the least number of samples? - Dermatofibroma and Seborrheic keratosis.\n",
    "- Which classes dominate the data in terms proportionate number of samples?\n",
    "Pigmented benign keratosis dominates the data of count more than 100 in training\n",
    "\n",
    "Todo: Rectify the class imbalance\n",
    "Context: You can use a python package known as Augmentor (https://augmentor.readthedocs.io/en/master/) to add more samples across all classes so that none of the classes have very few samples."
   ]
  },
  {
   "cell_type": "code",
   "execution_count": null,
   "id": "kmeKt9SP65t_",
   "metadata": {
    "colab": {
     "base_uri": "https://localhost:8080/"
    },
    "id": "kmeKt9SP65t_",
    "outputId": "d5f0d415-4b9d-4c11-9fd8-f5daa405c988"
   },
   "outputs": [],
   "source": [
    "!pip install Augmentor"
   ]
  },
  {
   "cell_type": "code",
   "execution_count": null,
   "id": "pIdc9FME7AnA",
   "metadata": {
    "colab": {
     "base_uri": "https://localhost:8080/"
    },
    "id": "pIdc9FME7AnA",
    "outputId": "a71c3e1c-8647-46ac-ccd0-1e2dc39f04d4"
   },
   "outputs": [],
   "source": [
    "path_to_training_dataset=\"/content/drive/MyDrive/Skin cancer ISIC The International Skin Imaging Collaboration/Train/\"\n",
    "import Augmentor\n",
    "for i in class_names:\n",
    "    p = Augmentor.Pipeline(path_to_training_dataset + i)\n",
    "    p.rotate(probability=0.7, max_left_rotation=10, max_right_rotation=10)\n",
    "    p.sample(500) ## We are adding 500 samples per class to make sure that none of the classes are sparse."
   ]
  },
  {
   "cell_type": "code",
   "execution_count": null,
   "id": "rnDVImb37Jg_",
   "metadata": {
    "colab": {
     "base_uri": "https://localhost:8080/"
    },
    "id": "rnDVImb37Jg_",
    "outputId": "67662f46-109d-477d-80e0-5ca71a8482cd"
   },
   "outputs": [],
   "source": [
    "train_image_count = len(list(data_dir_train.glob('*/output/*.jpg')))\n",
    "print(train_image_count)"
   ]
  },
  {
   "cell_type": "markdown",
   "id": "Th0kGx437Op4",
   "metadata": {
    "id": "Th0kGx437Op4"
   },
   "source": [
    "#### Lets see the distribution of augmented data after adding new images to the original training data."
   ]
  },
  {
   "cell_type": "code",
   "execution_count": null,
   "id": "ToMmnKPy7RoZ",
   "metadata": {
    "colab": {
     "base_uri": "https://localhost:8080/"
    },
    "id": "ToMmnKPy7RoZ",
    "outputId": "a7466795-7224-47d5-ce87-897a05c85a61"
   },
   "outputs": [],
   "source": [
    "from glob import glob\n",
    "path_list = [x for x in glob(os.path.join(data_dir_train, '*','output', '*.jpg'))]\n",
    "path_list"
   ]
  },
  {
   "cell_type": "code",
   "execution_count": null,
   "id": "ni1xp7uP7bVI",
   "metadata": {
    "colab": {
     "base_uri": "https://localhost:8080/"
    },
    "id": "ni1xp7uP7bVI",
    "outputId": "8da3e989-f1c4-479a-db8e-7dc1868f5c4a"
   },
   "outputs": [],
   "source": [
    "lesion_list_new = [os.path.basename(os.path.dirname(os.path.dirname(y))) for y in glob(os.path.join(data_dir_train, '*','output', '*.jpg'))]\n",
    "lesion_list_new"
   ]
  },
  {
   "cell_type": "code",
   "execution_count": null,
   "id": "7uotBKG57gWV",
   "metadata": {
    "id": "7uotBKG57gWV"
   },
   "outputs": [],
   "source": [
    "dataframe_dict_new = dict(zip(path_list, lesion_list_new))"
   ]
  },
  {
   "cell_type": "code",
   "execution_count": null,
   "id": "trMvd75t7j9V",
   "metadata": {
    "id": "trMvd75t7j9V"
   },
   "outputs": [],
   "source": [
    "df2 = pd.DataFrame(list(dataframe_dict_new.items()),columns = ['Path','Label'])\n",
    "new_df = df2"
   ]
  },
  {
   "cell_type": "code",
   "execution_count": null,
   "id": "WunsSLML7lm9",
   "metadata": {
    "colab": {
     "base_uri": "https://localhost:8080/"
    },
    "id": "WunsSLML7lm9",
    "outputId": "f9be7e22-5c37-4696-9e5c-96746582c259"
   },
   "outputs": [],
   "source": [
    "new_df['Label'].value_counts()"
   ]
  },
  {
   "cell_type": "markdown",
   "id": "zCbOsnDq7rjP",
   "metadata": {
    "id": "zCbOsnDq7rjP"
   },
   "source": [
    "So, now we have added 500 images to all the classes to maintain some class balance. We can add more images as we want to improve training process.\n",
    "\n",
    "Todo: Train the model on the data created using Augmentor"
   ]
  },
  {
   "cell_type": "code",
   "execution_count": null,
   "id": "Czd1--e47oNe",
   "metadata": {
    "id": "Czd1--e47oNe"
   },
   "outputs": [],
   "source": [
    "batch_size = 32\n",
    "img_height = 180\n",
    "img_width = 180"
   ]
  },
  {
   "cell_type": "markdown",
   "id": "ov89DR7n71cW",
   "metadata": {
    "id": "ov89DR7n71cW"
   },
   "source": [
    "**Todo**: Create a training dataset"
   ]
  },
  {
   "cell_type": "code",
   "execution_count": null,
   "id": "Uklruat0729f",
   "metadata": {
    "colab": {
     "base_uri": "https://localhost:8080/"
    },
    "id": "Uklruat0729f",
    "outputId": "c27da5b0-786f-4c3d-a4bd-b79a346944fd"
   },
   "outputs": [],
   "source": [
    "data_dir_train=\"/content/drive/MyDrive/Skin cancer ISIC The International Skin Imaging Collaboration/Train/\"\n",
    "train_ds = tf.keras.preprocessing.image_dataset_from_directory(\n",
    "  data_dir_train,\n",
    "  seed=123,\n",
    "  validation_split = 0.2,\n",
    "  subset = 'training',\n",
    "  image_size=(img_height, img_width),\n",
    "  batch_size=batch_size)"
   ]
  },
  {
   "cell_type": "markdown",
   "id": "2LzPMovP8Mam",
   "metadata": {
    "id": "2LzPMovP8Mam"
   },
   "source": [
    "**Todo**: Create a validation dataset"
   ]
  },
  {
   "cell_type": "code",
   "execution_count": null,
   "id": "DR82h0d28OIv",
   "metadata": {
    "colab": {
     "base_uri": "https://localhost:8080/"
    },
    "id": "DR82h0d28OIv",
    "outputId": "f4c70f7d-efeb-4bad-db79-b8a84736c876"
   },
   "outputs": [],
   "source": [
    "val_ds = tf.keras.preprocessing.image_dataset_from_directory(\n",
    "  data_dir_train,\n",
    "  seed=123,\n",
    "  validation_split = 0.2,\n",
    "  subset = 'validation',\n",
    "  image_size=(img_height, img_width),\n",
    "  batch_size=batch_size)"
   ]
  },
  {
   "cell_type": "markdown",
   "id": "dMIkpMEN8TF2",
   "metadata": {
    "id": "dMIkpMEN8TF2"
   },
   "source": [
    "**Todo**: Create your model (make sure to include normalization)"
   ]
  },
  {
   "cell_type": "code",
   "execution_count": null,
   "id": "3SMLJEYY8Sem",
   "metadata": {
    "id": "3SMLJEYY8Sem"
   },
   "outputs": [],
   "source": [
    "## your code goes here\n",
    "AUTOTUNE = tf.data.experimental.AUTOTUNE\n",
    "\n",
    "train_ds = train_ds.cache().shuffle(1000).prefetch(buffer_size=AUTOTUNE)\n",
    "val_ds = val_ds.cache().prefetch(buffer_size=AUTOTUNE)\n",
    "\n",
    "model = Sequential([\n",
    "  layers.experimental.preprocessing.Rescaling(1./255),\n",
    "  layers.Conv2D(16, 3, padding='same', activation='relu'),\n",
    "  layers.MaxPooling2D(),\n",
    "  layers.Conv2D(32, 3, padding='same', activation='relu'),\n",
    "  layers.MaxPooling2D(),\n",
    "  layers.Conv2D(64, 3, padding='same', activation='relu'),\n",
    "  layers.MaxPooling2D(),\n",
    "  layers.Dropout(0.2),\n",
    "  layers.Flatten(),\n",
    "  layers.Dense(128, activation='relu'),\n",
    "  layers.Dense(num_classes)\n",
    "])"
   ]
  },
  {
   "cell_type": "markdown",
   "id": "8AYq1f4a8YwH",
   "metadata": {
    "id": "8AYq1f4a8YwH"
   },
   "source": [
    "Todo: Compile your model (Choose optimizer and loss function appropriately)"
   ]
  },
  {
   "cell_type": "code",
   "execution_count": null,
   "id": "t2v4x0fg8adQ",
   "metadata": {
    "id": "t2v4x0fg8adQ"
   },
   "outputs": [],
   "source": [
    "## your code goes here\n",
    "model.compile(optimizer='adam',\n",
    "              loss=tf.keras.losses.SparseCategoricalCrossentropy(from_logits=True),\n",
    "              metrics=['accuracy'])"
   ]
  },
  {
   "cell_type": "markdown",
   "id": "lL4IlS9j8fhW",
   "metadata": {
    "id": "lL4IlS9j8fhW"
   },
   "source": [
    "**Todo**: Train your model"
   ]
  },
  {
   "cell_type": "code",
   "execution_count": null,
   "id": "1MDwljiP8hK5",
   "metadata": {
    "colab": {
     "base_uri": "https://localhost:8080/"
    },
    "id": "1MDwljiP8hK5",
    "outputId": "597c411e-5033-450b-cf84-69a38a845049"
   },
   "outputs": [],
   "source": [
    "epochs = 30\n",
    "## Your code goes here, use 50 epochs.\n",
    "history = model.fit(\n",
    "  train_ds,\n",
    "  validation_data=val_ds,\n",
    "  epochs=epochs\n",
    ")\n"
   ]
  },
  {
   "cell_type": "markdown",
   "id": "SwPRp1xb8mTX",
   "metadata": {
    "id": "SwPRp1xb8mTX"
   },
   "source": [
    "**Todo**: Visualize the model results"
   ]
  },
  {
   "cell_type": "code",
   "execution_count": null,
   "id": "kHlWyJyN8pjV",
   "metadata": {
    "colab": {
     "base_uri": "https://localhost:8080/",
     "height": 499
    },
    "id": "kHlWyJyN8pjV",
    "outputId": "7960ec89-baf9-4a96-a5d4-00690f100ffd"
   },
   "outputs": [],
   "source": [
    "acc = history.history['accuracy']\n",
    "val_acc = history.history['val_accuracy']\n",
    "\n",
    "loss = history.history['loss']\n",
    "val_loss = history.history['val_loss']\n",
    "\n",
    "epochs_range = range(epochs)\n",
    "\n",
    "plt.figure(figsize=(8, 8))\n",
    "plt.subplot(1, 2, 1)\n",
    "plt.plot(epochs_range, acc, label='Training Accuracy')\n",
    "plt.plot(epochs_range, val_acc, label='Validation Accuracy')\n",
    "plt.legend(loc='lower right')\n",
    "plt.title('Training and Validation Accuracy')\n",
    "\n",
    "plt.subplot(1, 2, 2)\n",
    "plt.plot(epochs_range, loss, label='Training Loss')\n",
    "plt.plot(epochs_range, val_loss, label='Validation Loss')\n",
    "plt.legend(loc='upper right')\n",
    "plt.title('Training and Validation Loss')\n",
    "plt.show()"
   ]
  },
  {
   "cell_type": "markdown",
   "id": "106a4b1a",
   "metadata": {},
   "source": [
    "# Todo: Analyze your results here. Did you get rid of underfitting/overfitting? Did class rebalance help?\n",
    "Accuracy on training data has increased by using Augmentor library\n",
    "\n",
    "Model is still overfitting\n",
    "\n",
    "The problem of overfitting can be solved by add more layer,neurons or adding dropout layers.\n",
    "\n",
    "The Model can be further improved by tuning the hyperparameter"
   ]
  }
 ],
 "metadata": {
  "accelerator": "GPU",
  "colab": {
   "provenance": []
  },
  "gpuClass": "standard",
  "kernelspec": {
   "display_name": "Python 3",
   "language": "python",
   "name": "python3"
  },
  "language_info": {
   "codemirror_mode": {
    "name": "ipython",
    "version": 3
   },
   "file_extension": ".py",
   "mimetype": "text/x-python",
   "name": "python",
   "nbconvert_exporter": "python",
   "pygments_lexer": "ipython3",
   "version": "3.8.8"
  }
 },
 "nbformat": 4,
 "nbformat_minor": 5
}
